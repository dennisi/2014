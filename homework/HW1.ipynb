{
 "cells": [
  {
   "cell_type": "markdown",
   "metadata": {},
   "source": [
    "# Homework 1. Exploratory Data Analysis\n",
    "\n",
    "Due: Thursday, September 18, 2014 11:59 PM\n",
    "\n",
    "<a href=https://raw.githubusercontent.com/cs109/2014/master/homework/HW1.ipynb download=HW1.ipynb> Download this assignment</a>\n",
    "\n",
    "---"
   ]
  },
  {
   "cell_type": "markdown",
   "metadata": {},
   "source": [
    "## Introduction\n",
    "\n",
    "In this homework we ask you three questions that we expect you to answer using data. For each question we ask you to complete a series of tasks that should help guide you through the data analysis. Complete these tasks and then write a short (100 words or less) answer to the question.\n",
    "\n",
    "**Note**: We will briefly discuss this homework assignment on Thursday in class.\n",
    "\n",
    "#### Data\n",
    "For this assignment we will use two databases: \n",
    "\n",
    "1. The [Sean Lahman's Baseball Database](http://seanlahman.com/baseball-archive/statistics) which contains the \"complete batting and pitching statistics from 1871 to 2013, plus fielding statistics, standings, team stats, managerial records, post-season data, and more. For more details on the latest release, please [read the documentation](http://seanlahman.com/files/database/readme2012.txt).\"\n",
    "\n",
    "2. [Gapminder](http://www.gapminder.org) is a great resource that contains over [500 data sets](http://www.gapminder.org/data/) related to world indicators such as income, GDP and life expectancy. \n",
    "\n",
    "\n",
    "#### Purpose\n",
    "\n",
    "In this assignment, you will learn how to: \n",
    "\n",
    "a. Load in CSV files from the web. \n",
    "\n",
    "b. Create functions in python. \n",
    "\n",
    "C. Create plots and summary statistics for exploratory data analysis such as histograms, boxplots and scatter plots. \n",
    "\n",
    "\n",
    "#### Useful libraries for this assignment \n",
    "\n",
    "* [numpy](http://docs.scipy.org/doc/numpy-dev/user/index.html), for arrays\n",
    "* [pandas](http://pandas.pydata.org/), for data frames\n",
    "* [matplotlib](http://matplotlib.org/), for plotting\n",
    "\n",
    "---"
   ]
  },
  {
   "cell_type": "code",
   "execution_count": 1,
   "metadata": {
    "collapsed": false
   },
   "outputs": [],
   "source": [
    "# special IPython command to prepare the notebook for matplotlib\n",
    "%matplotlib inline \n",
    "\n",
    "import numpy as np\n",
    "import pandas as pd\n",
    "import matplotlib.pyplot as plt"
   ]
  },
  {
   "cell_type": "markdown",
   "metadata": {},
   "source": [
    "## Problem 1\n",
    "\n",
    "In Lecture 1, we showed a plot that provided evidence that the 2002 and 2003 Oakland A's, a team that used data science, had a competitive advantage. Since, others teams have started using data science as well. Use exploratory data analysis to determine if the competitive advantage has since disappeared. "
   ]
  },
  {
   "cell_type": "markdown",
   "metadata": {},
   "source": [
    "#### Problem 1(a) \n",
    "Load in [these CSV files](http://seanlahman.com/files/database/lahman-csv_2014-02-14.zip) from the [Sean Lahman's Baseball Database](http://seanlahman.com/baseball-archive/statistics). For this assignment, we will use the 'Salaries.csv' and 'Teams.csv' tables. Read these tables into a pandas `DataFrame` and show the head of each table. \n",
    "\n",
    "**Hint** Use the [requests](http://docs.python-requests.org/en/latest/), [StringIO](http://docs.python.org/2/library/stringio.html) and [zipfile](https://docs.python.org/2/library/zipfile.html) modules to get from the web.  "
   ]
  },
  {
   "cell_type": "code",
   "execution_count": 2,
   "metadata": {
    "collapsed": true
   },
   "outputs": [],
   "source": [
    "import requests, zipfile, StringIO\n",
    "r = requests.get(\"http://seanlahman.com/files/database/lahman-csv_2014-02-14.zip\")\n",
    "z = zipfile.ZipFile(StringIO.StringIO(r.content))\n",
    "\n",
    "salaries_data = pd.read_csv(z.open('Salaries.csv'))\n",
    "teams_data = pd.read_csv(z.open('Teams.csv'))"
   ]
  },
  {
   "cell_type": "code",
   "execution_count": 3,
   "metadata": {
    "collapsed": false
   },
   "outputs": [
    {
     "name": "stdout",
     "output_type": "stream",
     "text": [
      "(23956, 5)\n"
     ]
    },
    {
     "data": {
      "text/html": [
       "<div>\n",
       "<table border=\"1\" class=\"dataframe\">\n",
       "  <thead>\n",
       "    <tr style=\"text-align: right;\">\n",
       "      <th></th>\n",
       "      <th>yearID</th>\n",
       "      <th>teamID</th>\n",
       "      <th>lgID</th>\n",
       "      <th>playerID</th>\n",
       "      <th>salary</th>\n",
       "    </tr>\n",
       "  </thead>\n",
       "  <tbody>\n",
       "    <tr>\n",
       "      <th>0</th>\n",
       "      <td>1985</td>\n",
       "      <td>BAL</td>\n",
       "      <td>AL</td>\n",
       "      <td>murraed02</td>\n",
       "      <td>1472819</td>\n",
       "    </tr>\n",
       "    <tr>\n",
       "      <th>1</th>\n",
       "      <td>1985</td>\n",
       "      <td>BAL</td>\n",
       "      <td>AL</td>\n",
       "      <td>lynnfr01</td>\n",
       "      <td>1090000</td>\n",
       "    </tr>\n",
       "    <tr>\n",
       "      <th>2</th>\n",
       "      <td>1985</td>\n",
       "      <td>BAL</td>\n",
       "      <td>AL</td>\n",
       "      <td>ripkeca01</td>\n",
       "      <td>800000</td>\n",
       "    </tr>\n",
       "    <tr>\n",
       "      <th>3</th>\n",
       "      <td>1985</td>\n",
       "      <td>BAL</td>\n",
       "      <td>AL</td>\n",
       "      <td>lacyle01</td>\n",
       "      <td>725000</td>\n",
       "    </tr>\n",
       "    <tr>\n",
       "      <th>4</th>\n",
       "      <td>1985</td>\n",
       "      <td>BAL</td>\n",
       "      <td>AL</td>\n",
       "      <td>flanami01</td>\n",
       "      <td>641667</td>\n",
       "    </tr>\n",
       "  </tbody>\n",
       "</table>\n",
       "</div>"
      ],
      "text/plain": [
       "   yearID teamID lgID   playerID   salary\n",
       "0    1985    BAL   AL  murraed02  1472819\n",
       "1    1985    BAL   AL   lynnfr01  1090000\n",
       "2    1985    BAL   AL  ripkeca01   800000\n",
       "3    1985    BAL   AL   lacyle01   725000\n",
       "4    1985    BAL   AL  flanami01   641667"
      ]
     },
     "execution_count": 3,
     "metadata": {},
     "output_type": "execute_result"
    }
   ],
   "source": [
    "print(salaries_data.shape)\n",
    "salaries_data.head()"
   ]
  },
  {
   "cell_type": "code",
   "execution_count": 4,
   "metadata": {
    "collapsed": false
   },
   "outputs": [
    {
     "name": "stdout",
     "output_type": "stream",
     "text": [
      "(2745, 48)\n"
     ]
    },
    {
     "data": {
      "text/html": [
       "<div>\n",
       "<table border=\"1\" class=\"dataframe\">\n",
       "  <thead>\n",
       "    <tr style=\"text-align: right;\">\n",
       "      <th></th>\n",
       "      <th>yearID</th>\n",
       "      <th>lgID</th>\n",
       "      <th>teamID</th>\n",
       "      <th>franchID</th>\n",
       "      <th>divID</th>\n",
       "      <th>Rank</th>\n",
       "      <th>G</th>\n",
       "      <th>Ghome</th>\n",
       "      <th>W</th>\n",
       "      <th>L</th>\n",
       "      <th>...</th>\n",
       "      <th>DP</th>\n",
       "      <th>FP</th>\n",
       "      <th>name</th>\n",
       "      <th>park</th>\n",
       "      <th>attendance</th>\n",
       "      <th>BPF</th>\n",
       "      <th>PPF</th>\n",
       "      <th>teamIDBR</th>\n",
       "      <th>teamIDlahman45</th>\n",
       "      <th>teamIDretro</th>\n",
       "    </tr>\n",
       "  </thead>\n",
       "  <tbody>\n",
       "    <tr>\n",
       "      <th>0</th>\n",
       "      <td>1871</td>\n",
       "      <td>NaN</td>\n",
       "      <td>PH1</td>\n",
       "      <td>PNA</td>\n",
       "      <td>NaN</td>\n",
       "      <td>1</td>\n",
       "      <td>28</td>\n",
       "      <td>NaN</td>\n",
       "      <td>21</td>\n",
       "      <td>7</td>\n",
       "      <td>...</td>\n",
       "      <td>NaN</td>\n",
       "      <td>0.84</td>\n",
       "      <td>Philadelphia Athletics</td>\n",
       "      <td>Jefferson Street Grounds</td>\n",
       "      <td>NaN</td>\n",
       "      <td>102</td>\n",
       "      <td>98</td>\n",
       "      <td>ATH</td>\n",
       "      <td>PH1</td>\n",
       "      <td>PH1</td>\n",
       "    </tr>\n",
       "    <tr>\n",
       "      <th>1</th>\n",
       "      <td>1871</td>\n",
       "      <td>NaN</td>\n",
       "      <td>CH1</td>\n",
       "      <td>CNA</td>\n",
       "      <td>NaN</td>\n",
       "      <td>2</td>\n",
       "      <td>28</td>\n",
       "      <td>NaN</td>\n",
       "      <td>19</td>\n",
       "      <td>9</td>\n",
       "      <td>...</td>\n",
       "      <td>NaN</td>\n",
       "      <td>0.82</td>\n",
       "      <td>Chicago White Stockings</td>\n",
       "      <td>Union Base-Ball Grounds</td>\n",
       "      <td>NaN</td>\n",
       "      <td>104</td>\n",
       "      <td>102</td>\n",
       "      <td>CHI</td>\n",
       "      <td>CH1</td>\n",
       "      <td>CH1</td>\n",
       "    </tr>\n",
       "    <tr>\n",
       "      <th>2</th>\n",
       "      <td>1871</td>\n",
       "      <td>NaN</td>\n",
       "      <td>BS1</td>\n",
       "      <td>BNA</td>\n",
       "      <td>NaN</td>\n",
       "      <td>3</td>\n",
       "      <td>31</td>\n",
       "      <td>NaN</td>\n",
       "      <td>20</td>\n",
       "      <td>10</td>\n",
       "      <td>...</td>\n",
       "      <td>NaN</td>\n",
       "      <td>0.83</td>\n",
       "      <td>Boston Red Stockings</td>\n",
       "      <td>South End Grounds I</td>\n",
       "      <td>NaN</td>\n",
       "      <td>103</td>\n",
       "      <td>98</td>\n",
       "      <td>BOS</td>\n",
       "      <td>BS1</td>\n",
       "      <td>BS1</td>\n",
       "    </tr>\n",
       "    <tr>\n",
       "      <th>3</th>\n",
       "      <td>1871</td>\n",
       "      <td>NaN</td>\n",
       "      <td>WS3</td>\n",
       "      <td>OLY</td>\n",
       "      <td>NaN</td>\n",
       "      <td>4</td>\n",
       "      <td>32</td>\n",
       "      <td>NaN</td>\n",
       "      <td>15</td>\n",
       "      <td>15</td>\n",
       "      <td>...</td>\n",
       "      <td>NaN</td>\n",
       "      <td>0.85</td>\n",
       "      <td>Washington Olympics</td>\n",
       "      <td>Olympics Grounds</td>\n",
       "      <td>NaN</td>\n",
       "      <td>94</td>\n",
       "      <td>98</td>\n",
       "      <td>OLY</td>\n",
       "      <td>WS3</td>\n",
       "      <td>WS3</td>\n",
       "    </tr>\n",
       "    <tr>\n",
       "      <th>4</th>\n",
       "      <td>1871</td>\n",
       "      <td>NaN</td>\n",
       "      <td>NY2</td>\n",
       "      <td>NNA</td>\n",
       "      <td>NaN</td>\n",
       "      <td>5</td>\n",
       "      <td>33</td>\n",
       "      <td>NaN</td>\n",
       "      <td>16</td>\n",
       "      <td>17</td>\n",
       "      <td>...</td>\n",
       "      <td>NaN</td>\n",
       "      <td>0.83</td>\n",
       "      <td>New York Mutuals</td>\n",
       "      <td>Union Grounds (Brooklyn)</td>\n",
       "      <td>NaN</td>\n",
       "      <td>90</td>\n",
       "      <td>88</td>\n",
       "      <td>NYU</td>\n",
       "      <td>NY2</td>\n",
       "      <td>NY2</td>\n",
       "    </tr>\n",
       "  </tbody>\n",
       "</table>\n",
       "<p>5 rows × 48 columns</p>\n",
       "</div>"
      ],
      "text/plain": [
       "   yearID lgID teamID franchID divID  Rank   G  Ghome   W   L     ...       \\\n",
       "0    1871  NaN    PH1      PNA   NaN     1  28    NaN  21   7     ...        \n",
       "1    1871  NaN    CH1      CNA   NaN     2  28    NaN  19   9     ...        \n",
       "2    1871  NaN    BS1      BNA   NaN     3  31    NaN  20  10     ...        \n",
       "3    1871  NaN    WS3      OLY   NaN     4  32    NaN  15  15     ...        \n",
       "4    1871  NaN    NY2      NNA   NaN     5  33    NaN  16  17     ...        \n",
       "\n",
       "   DP    FP                     name                      park  attendance  \\\n",
       "0 NaN  0.84   Philadelphia Athletics  Jefferson Street Grounds         NaN   \n",
       "1 NaN  0.82  Chicago White Stockings   Union Base-Ball Grounds         NaN   \n",
       "2 NaN  0.83     Boston Red Stockings       South End Grounds I         NaN   \n",
       "3 NaN  0.85      Washington Olympics          Olympics Grounds         NaN   \n",
       "4 NaN  0.83         New York Mutuals  Union Grounds (Brooklyn)         NaN   \n",
       "\n",
       "   BPF  PPF  teamIDBR  teamIDlahman45  teamIDretro  \n",
       "0  102   98       ATH             PH1          PH1  \n",
       "1  104  102       CHI             CH1          CH1  \n",
       "2  103   98       BOS             BS1          BS1  \n",
       "3   94   98       OLY             WS3          WS3  \n",
       "4   90   88       NYU             NY2          NY2  \n",
       "\n",
       "[5 rows x 48 columns]"
      ]
     },
     "execution_count": 4,
     "metadata": {},
     "output_type": "execute_result"
    }
   ],
   "source": [
    "print(teams_data.shape)\n",
    "teams_data.head()\n",
    "#teams_data.iloc[:5, :10]"
   ]
  },
  {
   "cell_type": "code",
   "execution_count": 5,
   "metadata": {
    "collapsed": false,
    "scrolled": true
   },
   "outputs": [
    {
     "data": {
      "text/html": [
       "<div>\n",
       "<table border=\"1\" class=\"dataframe\">\n",
       "  <thead>\n",
       "    <tr style=\"text-align: right;\">\n",
       "      <th></th>\n",
       "      <th>yearID</th>\n",
       "      <th>salary</th>\n",
       "    </tr>\n",
       "  </thead>\n",
       "  <tbody>\n",
       "    <tr>\n",
       "      <th>count</th>\n",
       "      <td>23956.000000</td>\n",
       "      <td>23956.000000</td>\n",
       "    </tr>\n",
       "    <tr>\n",
       "      <th>mean</th>\n",
       "      <td>1999.419436</td>\n",
       "      <td>1864357.120220</td>\n",
       "    </tr>\n",
       "    <tr>\n",
       "      <th>std</th>\n",
       "      <td>8.045512</td>\n",
       "      <td>3079811.630009</td>\n",
       "    </tr>\n",
       "    <tr>\n",
       "      <th>min</th>\n",
       "      <td>1985.000000</td>\n",
       "      <td>0.000000</td>\n",
       "    </tr>\n",
       "    <tr>\n",
       "      <th>25%</th>\n",
       "      <td>1993.000000</td>\n",
       "      <td>250000.000000</td>\n",
       "    </tr>\n",
       "    <tr>\n",
       "      <th>50%</th>\n",
       "      <td>1999.000000</td>\n",
       "      <td>507950.000000</td>\n",
       "    </tr>\n",
       "    <tr>\n",
       "      <th>75%</th>\n",
       "      <td>2006.000000</td>\n",
       "      <td>2100000.000000</td>\n",
       "    </tr>\n",
       "    <tr>\n",
       "      <th>max</th>\n",
       "      <td>2013.000000</td>\n",
       "      <td>33000000.000000</td>\n",
       "    </tr>\n",
       "  </tbody>\n",
       "</table>\n",
       "</div>"
      ],
      "text/plain": [
       "             yearID           salary\n",
       "count  23956.000000     23956.000000\n",
       "mean    1999.419436   1864357.120220\n",
       "std        8.045512   3079811.630009\n",
       "min     1985.000000         0.000000\n",
       "25%     1993.000000    250000.000000\n",
       "50%     1999.000000    507950.000000\n",
       "75%     2006.000000   2100000.000000\n",
       "max     2013.000000  33000000.000000"
      ]
     },
     "execution_count": 5,
     "metadata": {},
     "output_type": "execute_result"
    }
   ],
   "source": [
    "salaries_data.describe()"
   ]
  },
  {
   "cell_type": "code",
   "execution_count": 6,
   "metadata": {
    "collapsed": false,
    "scrolled": true
   },
   "outputs": [
    {
     "name": "stdout",
     "output_type": "stream",
     "text": [
      "CLE    867\n",
      "PHI    861\n",
      "LAN    861\n",
      "SLN    858\n",
      "BAL    855\n",
      "NYA    855\n",
      "OAK    855\n",
      "BOS    852\n",
      "PIT    851\n",
      "KCA    849\n",
      "CIN    846\n",
      "ATL    838\n",
      "SDN    836\n",
      "NYN    835\n",
      "TEX    831\n",
      "TOR    826\n",
      "CHN    821\n",
      "SFN    820\n",
      "SEA    818\n",
      "DET    817\n",
      "CHA    812\n",
      "HOU    805\n",
      "MIN    778\n",
      "COL    616\n",
      "FLO    588\n",
      "MON    577\n",
      "ARI    458\n",
      "TBA    455\n",
      "MIL    452\n",
      "ML4    381\n",
      "CAL    368\n",
      "WAS    260\n",
      "LAA    256\n",
      "ANA    247\n",
      "MIA     51\n",
      "dtype: int64\n"
     ]
    }
   ],
   "source": [
    "#salaries_data.teamID.unique()\n",
    "print(salaries_data.teamID.value_counts())"
   ]
  },
  {
   "cell_type": "code",
   "execution_count": 7,
   "metadata": {
    "collapsed": false
   },
   "outputs": [
    {
     "name": "stdout",
     "output_type": "stream",
     "text": [
      "NL    12212\n",
      "AL    11744\n",
      "dtype: int64\n"
     ]
    }
   ],
   "source": [
    "#salaries_data.lgID.unique()\n",
    "print(salaries_data.lgID.value_counts())"
   ]
  },
  {
   "cell_type": "code",
   "execution_count": 8,
   "metadata": {
    "collapsed": false
   },
   "outputs": [
    {
     "data": {
      "text/plain": [
       "<matplotlib.axes._subplots.AxesSubplot at 0xc1b74e0>"
      ]
     },
     "execution_count": 8,
     "metadata": {},
     "output_type": "execute_result"
    },
    {
     "data": {
      "image/png": "[encoded data removed]",
      "text/plain": [
       "<matplotlib.figure.Figure at 0xc1b7390>"
      ]
     },
     "metadata": {},
     "output_type": "display_data"
    }
   ],
   "source": [
    "salaries_data.salary.hist(bins=50)"
   ]
  },
  {
   "cell_type": "code",
   "execution_count": 9,
   "metadata": {
    "collapsed": false
   },
   "outputs": [
    {
     "data": {
      "text/plain": [
       "<matplotlib.axes._subplots.AxesSubplot at 0xc365550>"
      ]
     },
     "execution_count": 9,
     "metadata": {},
     "output_type": "execute_result"
    },
    {
     "data": {
      "image/png": "[encoded data removed]",
      "text/plain": [
       "<matplotlib.figure.Figure at 0xc4026a0>"
      ]
     },
     "metadata": {},
     "output_type": "display_data"
    }
   ],
   "source": [
    "salaries_data.yearID.hist( bins = salaries_data.yearID.unique().size )"
   ]
  },
  {
   "cell_type": "code",
   "execution_count": 10,
   "metadata": {
    "collapsed": false
   },
   "outputs": [
    {
     "data": {
      "text/plain": [
       "1999    1006\n",
       "1998     998\n",
       "1995     986\n",
       "1996     931\n",
       "1997     925\n",
       "1993     923\n",
       "1994     884\n",
       "1990     867\n",
       "2001     860\n",
       "2008     856\n",
       "2012     848\n",
       "2002     846\n",
       "2007     842\n",
       "2011     839\n",
       "2000     836\n",
       "2005     831\n",
       "2004     831\n",
       "2010     830\n",
       "2003     827\n",
       "2006     819\n",
       "2013     815\n",
       "2009     813\n",
       "1992     769\n",
       "1986     738\n",
       "1989     711\n",
       "1991     685\n",
       "1988     663\n",
       "1987     627\n",
       "1985     550\n",
       "dtype: int64"
      ]
     },
     "execution_count": 10,
     "metadata": {},
     "output_type": "execute_result"
    }
   ],
   "source": [
    "#gbyear = salaries_data.groupby('yearID')\n",
    "#print(gbyear.get_group)\n",
    "salaries_data['yearID'].value_counts()"
   ]
  },
  {
   "cell_type": "code",
   "execution_count": 11,
   "metadata": {
    "collapsed": false
   },
   "outputs": [
    {
     "name": "stdout",
     "output_type": "stream",
     "text": [
      "yearID      23956\n",
      "teamID      23956\n",
      "lgID        23956\n",
      "playerID    23956\n",
      "salary      23956\n",
      "dtype: int64\n"
     ]
    },
    {
     "data": {
      "text/plain": [
       "Index([u'yearID', u'teamID', u'lgID', u'playerID', u'salary'], dtype='object')"
      ]
     },
     "execution_count": 11,
     "metadata": {},
     "output_type": "execute_result"
    }
   ],
   "source": [
    "# how to make a bar plot of a categorical pandas df variable\n",
    "#import seaborn as sns\n",
    "#salaries_data.teamID\n",
    "print(salaries_data.count())\n",
    "salaries_data.columns"
   ]
  },
  {
   "cell_type": "markdown",
   "metadata": {},
   "source": [
    "#### Problem 1(b)\n",
    "\n",
    "Summarize the Salaries DataFrame to show the total salaries for each team for each year. Show the head of the new summarized DataFrame. "
   ]
  },
  {
   "cell_type": "code",
   "execution_count": 12,
   "metadata": {
    "collapsed": false
   },
   "outputs": [
    {
     "name": "stdout",
     "output_type": "stream",
     "text": [
      "   yearID teamID    salary\n",
      "0    1985    ATL  14807000\n",
      "1    1985    BAL  11560712\n",
      "2    1985    BOS  10897560\n",
      "3    1985    CAL  14427894\n",
      "4    1985    CHA   9846178\n"
     ]
    }
   ],
   "source": [
    "# show the total salaries for each team for each year\n",
    "#sals = salaries_data.groupby('yearID').sum()\n",
    "#print (sals.head())\n",
    "team_year_salaries = salaries_data.groupby(['yearID', 'teamID'], as_index=False).sum()\n",
    "print(team_year_salaries.head())"
   ]
  },
  {
   "cell_type": "markdown",
   "metadata": {},
   "source": [
    "#### Problem 1(c)\n",
    "\n",
    "Merge the new summarized Salaries DataFrame and Teams DataFrame together to create a new DataFrame\n",
    "showing wins and total salaries for each team for each year year. Show the head of the new merged DataFrame.\n",
    "\n",
    "**Hint**: Merge the DataFrames using `teamID` and `yearID`."
   ]
  },
  {
   "cell_type": "code",
   "execution_count": 13,
   "metadata": {
    "collapsed": false
   },
   "outputs": [
    {
     "name": "stdout",
     "output_type": "stream",
     "text": [
      "(828, 49)\n"
     ]
    },
    {
     "data": {
      "text/html": [
       "<div>\n",
       "<table border=\"1\" class=\"dataframe\">\n",
       "  <thead>\n",
       "    <tr style=\"text-align: right;\">\n",
       "      <th></th>\n",
       "      <th>yearID</th>\n",
       "      <th>lgID</th>\n",
       "      <th>teamID</th>\n",
       "      <th>franchID</th>\n",
       "      <th>divID</th>\n",
       "      <th>Rank</th>\n",
       "      <th>G</th>\n",
       "      <th>Ghome</th>\n",
       "      <th>W</th>\n",
       "      <th>L</th>\n",
       "      <th>...</th>\n",
       "      <th>FP</th>\n",
       "      <th>name</th>\n",
       "      <th>park</th>\n",
       "      <th>attendance</th>\n",
       "      <th>BPF</th>\n",
       "      <th>PPF</th>\n",
       "      <th>teamIDBR</th>\n",
       "      <th>teamIDlahman45</th>\n",
       "      <th>teamIDretro</th>\n",
       "      <th>salary</th>\n",
       "    </tr>\n",
       "  </thead>\n",
       "  <tbody>\n",
       "    <tr>\n",
       "      <th>0</th>\n",
       "      <td>1985</td>\n",
       "      <td>AL</td>\n",
       "      <td>TOR</td>\n",
       "      <td>TOR</td>\n",
       "      <td>E</td>\n",
       "      <td>1</td>\n",
       "      <td>161</td>\n",
       "      <td>80</td>\n",
       "      <td>99</td>\n",
       "      <td>62</td>\n",
       "      <td>...</td>\n",
       "      <td>0.98</td>\n",
       "      <td>Toronto Blue Jays</td>\n",
       "      <td>Exhibition Stadium</td>\n",
       "      <td>2468925</td>\n",
       "      <td>104</td>\n",
       "      <td>103</td>\n",
       "      <td>TOR</td>\n",
       "      <td>TOR</td>\n",
       "      <td>TOR</td>\n",
       "      <td>8812550</td>\n",
       "    </tr>\n",
       "    <tr>\n",
       "      <th>1</th>\n",
       "      <td>1985</td>\n",
       "      <td>AL</td>\n",
       "      <td>NYA</td>\n",
       "      <td>NYY</td>\n",
       "      <td>E</td>\n",
       "      <td>2</td>\n",
       "      <td>161</td>\n",
       "      <td>80</td>\n",
       "      <td>97</td>\n",
       "      <td>64</td>\n",
       "      <td>...</td>\n",
       "      <td>0.97</td>\n",
       "      <td>New York Yankees</td>\n",
       "      <td>Yankee Stadium II</td>\n",
       "      <td>2214587</td>\n",
       "      <td>98</td>\n",
       "      <td>97</td>\n",
       "      <td>NYY</td>\n",
       "      <td>NYA</td>\n",
       "      <td>NYA</td>\n",
       "      <td>14238204</td>\n",
       "    </tr>\n",
       "    <tr>\n",
       "      <th>2</th>\n",
       "      <td>1985</td>\n",
       "      <td>AL</td>\n",
       "      <td>DET</td>\n",
       "      <td>DET</td>\n",
       "      <td>E</td>\n",
       "      <td>3</td>\n",
       "      <td>161</td>\n",
       "      <td>81</td>\n",
       "      <td>84</td>\n",
       "      <td>77</td>\n",
       "      <td>...</td>\n",
       "      <td>0.97</td>\n",
       "      <td>Detroit Tigers</td>\n",
       "      <td>Tiger Stadium</td>\n",
       "      <td>2286609</td>\n",
       "      <td>100</td>\n",
       "      <td>98</td>\n",
       "      <td>DET</td>\n",
       "      <td>DET</td>\n",
       "      <td>DET</td>\n",
       "      <td>10348143</td>\n",
       "    </tr>\n",
       "    <tr>\n",
       "      <th>3</th>\n",
       "      <td>1985</td>\n",
       "      <td>AL</td>\n",
       "      <td>BAL</td>\n",
       "      <td>BAL</td>\n",
       "      <td>E</td>\n",
       "      <td>4</td>\n",
       "      <td>161</td>\n",
       "      <td>81</td>\n",
       "      <td>83</td>\n",
       "      <td>78</td>\n",
       "      <td>...</td>\n",
       "      <td>0.98</td>\n",
       "      <td>Baltimore Orioles</td>\n",
       "      <td>Memorial Stadium</td>\n",
       "      <td>2132387</td>\n",
       "      <td>97</td>\n",
       "      <td>97</td>\n",
       "      <td>BAL</td>\n",
       "      <td>BAL</td>\n",
       "      <td>BAL</td>\n",
       "      <td>11560712</td>\n",
       "    </tr>\n",
       "    <tr>\n",
       "      <th>4</th>\n",
       "      <td>1985</td>\n",
       "      <td>AL</td>\n",
       "      <td>BOS</td>\n",
       "      <td>BOS</td>\n",
       "      <td>E</td>\n",
       "      <td>5</td>\n",
       "      <td>163</td>\n",
       "      <td>81</td>\n",
       "      <td>81</td>\n",
       "      <td>81</td>\n",
       "      <td>...</td>\n",
       "      <td>0.97</td>\n",
       "      <td>Boston Red Sox</td>\n",
       "      <td>Fenway Park II</td>\n",
       "      <td>1786633</td>\n",
       "      <td>104</td>\n",
       "      <td>104</td>\n",
       "      <td>BOS</td>\n",
       "      <td>BOS</td>\n",
       "      <td>BOS</td>\n",
       "      <td>10897560</td>\n",
       "    </tr>\n",
       "  </tbody>\n",
       "</table>\n",
       "<p>5 rows × 49 columns</p>\n",
       "</div>"
      ],
      "text/plain": [
       "   yearID lgID teamID franchID divID  Rank    G  Ghome   W   L    ...     \\\n",
       "0    1985   AL    TOR      TOR     E     1  161     80  99  62    ...      \n",
       "1    1985   AL    NYA      NYY     E     2  161     80  97  64    ...      \n",
       "2    1985   AL    DET      DET     E     3  161     81  84  77    ...      \n",
       "3    1985   AL    BAL      BAL     E     4  161     81  83  78    ...      \n",
       "4    1985   AL    BOS      BOS     E     5  163     81  81  81    ...      \n",
       "\n",
       "     FP               name                park attendance  BPF  PPF  teamIDBR  \\\n",
       "0  0.98  Toronto Blue Jays  Exhibition Stadium    2468925  104  103       TOR   \n",
       "1  0.97   New York Yankees   Yankee Stadium II    2214587   98   97       NYY   \n",
       "2  0.97     Detroit Tigers       Tiger Stadium    2286609  100   98       DET   \n",
       "3  0.98  Baltimore Orioles    Memorial Stadium    2132387   97   97       BAL   \n",
       "4  0.97     Boston Red Sox      Fenway Park II    1786633  104  104       BOS   \n",
       "\n",
       "   teamIDlahman45  teamIDretro    salary  \n",
       "0             TOR          TOR   8812550  \n",
       "1             NYA          NYA  14238204  \n",
       "2             DET          DET  10348143  \n",
       "3             BAL          BAL  11560712  \n",
       "4             BOS          BOS  10897560  \n",
       "\n",
       "[5 rows x 49 columns]"
      ]
     },
     "execution_count": 13,
     "metadata": {},
     "output_type": "execute_result"
    }
   ],
   "source": [
    "teams_salaries = pd.merge( \n",
    "    left = teams_data,\n",
    "    right = team_year_salaries,\n",
    "    on = ['teamID', 'yearID']\n",
    "    )\n",
    "print(teams_salaries.shape)\n",
    "teams_salaries.head()"
   ]
  },
  {
   "cell_type": "markdown",
   "metadata": {},
   "source": [
    "#### Problem 1(d)\n",
    "\n",
    "How would you graphically display the relationship between total wins and total salaries for a given year? What kind of plot would be best? Choose a plot to show this relationship and specifically annotate the Oakland baseball team on the on the plot. Show this plot across multiple years. In which years can you detect a competitive advantage from the Oakland baseball team of using data science? When did this end? \n",
    "\n",
    "**Hints**: Use a `for` loop to consider multiple years. Use the `teamID` (three letter representation of the team name) to save space on the plot.  "
   ]
  },
  {
   "cell_type": "code",
   "execution_count": 14,
   "metadata": {
    "collapsed": false
   },
   "outputs": [
    {
     "name": "stderr",
     "output_type": "stream",
     "text": [
      "C:\\Users\\Dennis\\Anaconda3\\envs\\py27\\lib\\site-packages\\matplotlib\\figure.py:387: UserWarning: matplotlib is currently using a non-GUI backend, so cannot show the figure\n",
      "  \"matplotlib is currently using a non-GUI backend, \"\n"
     ]
    },
    {
     "data": {
      "image/png": "[encoded data removed]",
      "text/plain": [
       "<matplotlib.figure.Figure at 0xc865da0>"
      ]
     },
     "metadata": {},
     "output_type": "display_data"
    }
   ],
   "source": [
    "import statsmodels.api as sm\n",
    "one_year = teams_salaries[teams_salaries.yearID==2002]\n",
    "#import seaborn as sns    \n",
    "\n",
    "fig, ax = plt.subplots()\n",
    "fit = np.polyfit(one_year.salary, one_year.W, deg=1)\n",
    "ax.plot(one_year.salary, fit[0] * one_year.salary + fit[1], color='orange')\n",
    "ax.scatter(one_year.salary, one_year.W, marker=\"_\", alpha=0.05)\n",
    "\n",
    "for i, txt in enumerate(one_year.teamID):\n",
    "    plt.annotate(txt.lower(), (one_year.iloc[i].salary,one_year.iloc[i].W))\n",
    "\n",
    "fig.show()"
   ]
  },
  {
   "cell_type": "code",
   "execution_count": 15,
   "metadata": {
    "collapsed": false
   },
   "outputs": [
    {
     "data": {
      "text/plain": [
       "[<matplotlib.lines.Line2D at 0x1a871278>]"
      ]
     },
     "execution_count": 15,
     "metadata": {},
     "output_type": "execute_result"
    },
    {
     "data": {
      "image/png": "[encoded data removed]",
      "text/plain": [
       "<matplotlib.figure.Figure at 0xc467c50>"
      ]
     },
     "metadata": {},
     "output_type": "display_data"
    }
   ],
   "source": [
    "x = pd.period_range('1980-01-01', periods=410, freq='M')\n",
    "x = x.to_timestamp().to_pydatetime()\n",
    "y = np.random.randn(len(x)).cumsum()\n",
    "plt.plot(x, y, label='FDI')"
   ]
  },
  {
   "cell_type": "markdown",
   "metadata": {},
   "source": [
    "#### Problem 1(e):\n",
    "\n",
    "**For AC209 Students**: Fit a linear regression to the data from each year and obtain the residuals. Plot the residuals against time to detect patterns that support your answer in 1(d). "
   ]
  },
  {
   "cell_type": "code",
   "execution_count": 16,
   "metadata": {
    "collapsed": false
   },
   "outputs": [],
   "source": [
    "#your code here"
   ]
  },
  {
   "cell_type": "markdown",
   "metadata": {},
   "source": [
    "## Discussion for Problem 1\n",
    "\n",
    "*Write a brief discussion of your conclusions to the questions and tasks above in 100 words or less.*\n",
    "\n",
    "---\n"
   ]
  },
  {
   "cell_type": "markdown",
   "metadata": {},
   "source": [
    "## Problem 2\n",
    "\n",
    "Several media reports have demonstrated the income inequality has increased in the US during this last decade. Here we will look at global data. Use exploratory data analysis to determine if the gap between Africa/Latin America/Asia and Europe/NorthAmerica has increased, decreased or stayed the same during the last two decades. "
   ]
  },
  {
   "cell_type": "markdown",
   "metadata": {},
   "source": [
    "#### Problem 2(a)\n",
    "\n",
    "Using the list of countries by continent from [World Atlas](http://www.worldatlas.com/cntycont.htm) data, load in the `countries.csv` file into a pandas DataFrame and name this data set as `countries`.  This data set can be found on Github in the 2014_data repository [here](https://github.com/cs109/2014_data/blob/master/countries.csv). "
   ]
  },
  {
   "cell_type": "code",
   "execution_count": 17,
   "metadata": {
    "collapsed": false
   },
   "outputs": [],
   "source": [
    "#your code here"
   ]
  },
  {
   "cell_type": "markdown",
   "metadata": {},
   "source": [
    "Using the [data available on Gapminder](http://www.gapminder.org/data/), load in the [Income per person (GDP/capita, PPP$ inflation-adjusted)](https://spreadsheets.google.com/pub?key=phAwcNAVuyj1jiMAkmq1iMg&gid=0) as a pandas DataFrame and name this data set as `income`.\n",
    "\n",
    "**Hint**: Consider using the pandas function `pandas.read_excel()` to read in the .xlsx file directly."
   ]
  },
  {
   "cell_type": "code",
   "execution_count": 18,
   "metadata": {
    "collapsed": false
   },
   "outputs": [],
   "source": [
    "#your code here"
   ]
  },
  {
   "cell_type": "markdown",
   "metadata": {},
   "source": [
    "Transform the data set to have years as the rows and countries as the columns. Show the head of this data set when it is loaded. "
   ]
  },
  {
   "cell_type": "code",
   "execution_count": 19,
   "metadata": {
    "collapsed": false
   },
   "outputs": [],
   "source": [
    "#your code here"
   ]
  },
  {
   "cell_type": "markdown",
   "metadata": {},
   "source": [
    "#### Problem 2(b)\n",
    "\n",
    "Graphically display the distribution of income per person across all countries in the world for any given year (e.g. 2000).  What kind of plot would be best? "
   ]
  },
  {
   "cell_type": "code",
   "execution_count": 20,
   "metadata": {
    "collapsed": false
   },
   "outputs": [],
   "source": [
    "#your code here"
   ]
  },
  {
   "cell_type": "markdown",
   "metadata": {},
   "source": [
    "#### Problem 2(c)\n",
    "\n",
    "Write a function to merge the `countries` and `income` data sets for any given year. "
   ]
  },
  {
   "cell_type": "code",
   "execution_count": 21,
   "metadata": {
    "collapsed": false
   },
   "outputs": [
    {
     "data": {
      "text/plain": [
       "\"\\nFunction\\n--------\\nmergeByYear\\n\\nReturn a merged DataFrame containing the income, \\ncountry name and region for a given year. \\n\\nParameters\\n----------\\nyear : int\\n    The year of interest\\n\\nReturns\\n-------\\na DataFrame\\n   A pandas DataFrame with three columns titled \\n   'Country', 'Region', and 'Income'. \\n\\nExample\\n-------\\n>>> mergeByYear(2010)\\n\""
      ]
     },
     "execution_count": 21,
     "metadata": {},
     "output_type": "execute_result"
    }
   ],
   "source": [
    "\"\"\"\n",
    "Function\n",
    "--------\n",
    "mergeByYear\n",
    "\n",
    "Return a merged DataFrame containing the income, \n",
    "country name and region for a given year. \n",
    "\n",
    "Parameters\n",
    "----------\n",
    "year : int\n",
    "    The year of interest\n",
    "\n",
    "Returns\n",
    "-------\n",
    "a DataFrame\n",
    "   A pandas DataFrame with three columns titled \n",
    "   'Country', 'Region', and 'Income'. \n",
    "\n",
    "Example\n",
    "-------\n",
    ">>> mergeByYear(2010)\n",
    "\"\"\"\n",
    "#your code here"
   ]
  },
  {
   "cell_type": "markdown",
   "metadata": {},
   "source": [
    "#### Problem 2(d) \n",
    "\n",
    "Use exploratory data analysis tools such as histograms and boxplots to explore the distribution of the income per person by region data set from 2(c) for a given year. Describe how these change through the recent years?\n",
    "\n",
    "**Hint**: Use a `for` loop to consider multiple years.  "
   ]
  },
  {
   "cell_type": "code",
   "execution_count": 22,
   "metadata": {
    "collapsed": false
   },
   "outputs": [],
   "source": [
    "#your code here"
   ]
  },
  {
   "cell_type": "markdown",
   "metadata": {},
   "source": [
    "## Discussion for Problem 2\n",
    "\n",
    "*Write a brief discussion of your conclusions to the questions and tasks above in 100 words or less.*\n",
    "\n",
    "---\n"
   ]
  },
  {
   "cell_type": "markdown",
   "metadata": {},
   "source": [
    "## Problem 3\n",
    "\n",
    "In general, if group A has larger values than group B on average, does this mean the largest values are from group A? Discuss after completing each of the problems below. "
   ]
  },
  {
   "cell_type": "markdown",
   "metadata": {},
   "source": [
    "#### Problem 3(a)\n",
    "\n",
    "Assume you have two list of numbers, X and Y, with distribution approximately normal. X and Y have standard deviation equal to 1, but the average of X is different from the average of Y.  If the difference in the average of X and the average of Y is larger than 0, how does the proportion of X > a compare to the proportion of Y > a? "
   ]
  },
  {
   "cell_type": "markdown",
   "metadata": {},
   "source": [
    "Write a function that analytically calculates the ratio of these two proportions: Pr(X > a)/Pr(Y > a) as function of the difference in the average of X and the average of Y. \n",
    "\n",
    "**Hint**: Use the `scipy.stats` module for useful functions related to a normal random variable such as the probability density function, cumulative distribution function and survival function. \n",
    "\n",
    "**Update**: Assume Y is normally distributed with mean equal to 0. "
   ]
  },
  {
   "cell_type": "markdown",
   "metadata": {},
   "source": [
    "Show the curve for different values of a (a = 2,3,4 and 5)."
   ]
  },
  {
   "cell_type": "code",
   "execution_count": 23,
   "metadata": {
    "collapsed": false
   },
   "outputs": [
    {
     "data": {
      "text/plain": [
       "'\\nFunction\\n--------\\nratioNormals\\n\\nReturn ratio of these two proportions: \\n    Pr(X > a)/Pr(Y > a) as function of \\n    the difference in the average of X \\n    and the average of Y. \\n\\nParameters\\n----------\\ndiff : difference in the average of X \\n    and the average of Y. \\na : cutoff value\\n\\nReturns\\n-------\\nReturns ratio of these two proportions: \\n    Pr(X > a)/Pr(Y > a)\\n    \\nExample\\n-------\\n>>> ratioNormals(diff = 1, a = 2)\\n'"
      ]
     },
     "execution_count": 23,
     "metadata": {},
     "output_type": "execute_result"
    }
   ],
   "source": [
    "\"\"\"\n",
    "Function\n",
    "--------\n",
    "ratioNormals\n",
    "\n",
    "Return ratio of these two proportions: \n",
    "    Pr(X > a)/Pr(Y > a) as function of \n",
    "    the difference in the average of X \n",
    "    and the average of Y. \n",
    "\n",
    "Parameters\n",
    "----------\n",
    "diff : difference in the average of X \n",
    "    and the average of Y. \n",
    "a : cutoff value\n",
    "\n",
    "Returns\n",
    "-------\n",
    "Returns ratio of these two proportions: \n",
    "    Pr(X > a)/Pr(Y > a)\n",
    "    \n",
    "Example\n",
    "-------\n",
    ">>> ratioNormals(diff = 1, a = 2)\n",
    "\"\"\"\n",
    "#your code here"
   ]
  },
  {
   "cell_type": "code",
   "execution_count": 24,
   "metadata": {
    "collapsed": false
   },
   "outputs": [],
   "source": [
    "#your code here"
   ]
  },
  {
   "cell_type": "markdown",
   "metadata": {},
   "source": [
    "#### Problem 3(b)\n",
    "\n",
    "Now consider the distribution of income per person from two regions: Asia and South America. Estimate the average income per person across the countries in those two regions. Which region has the larger average of income per person across the countries in that region? \n",
    "\n",
    "**Update**: Use the year 2012. "
   ]
  },
  {
   "cell_type": "code",
   "execution_count": 25,
   "metadata": {
    "collapsed": false
   },
   "outputs": [],
   "source": [
    "#your code here"
   ]
  },
  {
   "cell_type": "markdown",
   "metadata": {},
   "source": [
    "#### Problem 3(c) \n",
    "\n",
    "Calculate the proportion of countries with income per person that is greater than 10,000 dollars. Which region has a larger proportion of countries with income per person greater than 10,000 dollars? If the answer here is different from the answer in 3(b), explain why in light of your answer to 3(a).\n",
    "\n",
    "**Update**: Use the year 2012. "
   ]
  },
  {
   "cell_type": "code",
   "execution_count": 26,
   "metadata": {
    "collapsed": false
   },
   "outputs": [],
   "source": [
    "#your code here"
   ]
  },
  {
   "cell_type": "markdown",
   "metadata": {},
   "source": [
    "#### Problem 3(d)\n",
    "\n",
    "**For AC209 Students**: Re-run this analysis in Problem 3 but compute the average income per person for each region, instead of the average of the reported incomes per person across countries in the region. Why are these two different? Hint: use this [data set](https://spreadsheets.google.com/pub?key=phAwcNAVuyj0XOoBL_n5tAQ&gid=0). "
   ]
  },
  {
   "cell_type": "code",
   "execution_count": 27,
   "metadata": {
    "collapsed": false
   },
   "outputs": [],
   "source": [
    "#your code here"
   ]
  },
  {
   "cell_type": "markdown",
   "metadata": {},
   "source": [
    "## Discussion for Problem 3\n",
    "\n",
    "*Write a brief discussion of your conclusions to the questions and tasks above in 100 words or less.*\n",
    "\n",
    "---\n"
   ]
  }
 ],
 "metadata": {
  "kernelspec": {
   "display_name": "Python 2",
   "language": "python",
   "name": "python2"
  },
  "language_info": {
   "codemirror_mode": {
    "name": "ipython",
    "version": 2
   },
   "file_extension": ".py",
   "mimetype": "text/x-python",
   "name": "python",
   "nbconvert_exporter": "python",
   "pygments_lexer": "ipython2",
   "version": "2.7.10"
  }
 },
 "nbformat": 4,
 "nbformat_minor": 0
}
